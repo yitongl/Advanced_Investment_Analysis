{
 "cells": [
  {
   "cell_type": "code",
   "execution_count": 2,
   "metadata": {},
   "outputs": [],
   "source": [
    "import pandas as pd\n",
    "data = pd.read_json('interview-test-funding.json', lines=True)"
   ]
  },
  {
   "cell_type": "code",
   "execution_count": 3,
   "metadata": {},
   "outputs": [
    {
     "data": {
      "text/html": [
       "<div>\n",
       "<style scoped>\n",
       "    .dataframe tbody tr th:only-of-type {\n",
       "        vertical-align: middle;\n",
       "    }\n",
       "\n",
       "    .dataframe tbody tr th {\n",
       "        vertical-align: top;\n",
       "    }\n",
       "\n",
       "    .dataframe thead th {\n",
       "        text-align: right;\n",
       "    }\n",
       "</style>\n",
       "<table border=\"1\" class=\"dataframe\">\n",
       "  <thead>\n",
       "    <tr style=\"text-align: right;\">\n",
       "      <th></th>\n",
       "      <th>announced_on</th>\n",
       "      <th>company_name</th>\n",
       "      <th>company_uuid</th>\n",
       "      <th>funding_round_uuid</th>\n",
       "      <th>investment_type</th>\n",
       "      <th>investor_count</th>\n",
       "      <th>investor_names</th>\n",
       "      <th>raised_amount_usd</th>\n",
       "    </tr>\n",
       "  </thead>\n",
       "  <tbody>\n",
       "    <tr>\n",
       "      <th>0</th>\n",
       "      <td>2017-07-07</td>\n",
       "      <td>CryptoPing</td>\n",
       "      <td>6faee0d4-a0d2-3404-f9a3-441ca46fccf0</td>\n",
       "      <td>2ace3f55-5a66-484c-ce06-3a326f8eaafd</td>\n",
       "      <td>initial_coin_offering</td>\n",
       "      <td>NaN</td>\n",
       "      <td>{}</td>\n",
       "      <td>2600000.0</td>\n",
       "    </tr>\n",
       "    <tr>\n",
       "      <th>1</th>\n",
       "      <td>2016-04-01</td>\n",
       "      <td>WaterO</td>\n",
       "      <td>d319be0c-1b6a-a685-ef1e-ac79d04605ce</td>\n",
       "      <td>36380646-783c-0618-d61e-d9708c4c9366</td>\n",
       "      <td>product_crowdfunding</td>\n",
       "      <td>NaN</td>\n",
       "      <td>{}</td>\n",
       "      <td>85669.0</td>\n",
       "    </tr>\n",
       "    <tr>\n",
       "      <th>2</th>\n",
       "      <td>2018-02-12</td>\n",
       "      <td>LoopX</td>\n",
       "      <td>565777f7-c91e-47f8-8027-6b3617e3d7bf</td>\n",
       "      <td>4b52d69d-c681-44e1-ba88-1113df10dfa5</td>\n",
       "      <td>initial_coin_offering</td>\n",
       "      <td>NaN</td>\n",
       "      <td>{}</td>\n",
       "      <td>4500000.0</td>\n",
       "    </tr>\n",
       "    <tr>\n",
       "      <th>3</th>\n",
       "      <td>2018-05-26</td>\n",
       "      <td>Lancer Network</td>\n",
       "      <td>90ef7195-1681-45c2-870d-c47647240f29</td>\n",
       "      <td>4bc097d2-671f-45a3-890a-ca32980f939a</td>\n",
       "      <td>initial_coin_offering</td>\n",
       "      <td>NaN</td>\n",
       "      <td>{}</td>\n",
       "      <td>NaN</td>\n",
       "    </tr>\n",
       "    <tr>\n",
       "      <th>4</th>\n",
       "      <td>2019-09-20</td>\n",
       "      <td>Fullframe Design</td>\n",
       "      <td>85c58328-3b67-4b92-ba6e-167ba1d2072f</td>\n",
       "      <td>590a9864-9a4d-4c8f-81c1-5aa443f14af3</td>\n",
       "      <td>product_crowdfunding</td>\n",
       "      <td>NaN</td>\n",
       "      <td>{}</td>\n",
       "      <td>422293.0</td>\n",
       "    </tr>\n",
       "  </tbody>\n",
       "</table>\n",
       "</div>"
      ],
      "text/plain": [
       "  announced_on      company_name                          company_uuid  \\\n",
       "0   2017-07-07        CryptoPing  6faee0d4-a0d2-3404-f9a3-441ca46fccf0   \n",
       "1   2016-04-01            WaterO  d319be0c-1b6a-a685-ef1e-ac79d04605ce   \n",
       "2   2018-02-12             LoopX  565777f7-c91e-47f8-8027-6b3617e3d7bf   \n",
       "3   2018-05-26    Lancer Network  90ef7195-1681-45c2-870d-c47647240f29   \n",
       "4   2019-09-20  Fullframe Design  85c58328-3b67-4b92-ba6e-167ba1d2072f   \n",
       "\n",
       "                     funding_round_uuid        investment_type  \\\n",
       "0  2ace3f55-5a66-484c-ce06-3a326f8eaafd  initial_coin_offering   \n",
       "1  36380646-783c-0618-d61e-d9708c4c9366   product_crowdfunding   \n",
       "2  4b52d69d-c681-44e1-ba88-1113df10dfa5  initial_coin_offering   \n",
       "3  4bc097d2-671f-45a3-890a-ca32980f939a  initial_coin_offering   \n",
       "4  590a9864-9a4d-4c8f-81c1-5aa443f14af3   product_crowdfunding   \n",
       "\n",
       "   investor_count investor_names  raised_amount_usd  \n",
       "0             NaN             {}          2600000.0  \n",
       "1             NaN             {}            85669.0  \n",
       "2             NaN             {}          4500000.0  \n",
       "3             NaN             {}                NaN  \n",
       "4             NaN             {}           422293.0  "
      ]
     },
     "execution_count": 3,
     "metadata": {},
     "output_type": "execute_result"
    }
   ],
   "source": [
    "data.head()"
   ]
  },
  {
   "cell_type": "code",
   "execution_count": 4,
   "metadata": {},
   "outputs": [
    {
     "data": {
      "text/plain": [
       "284307"
      ]
     },
     "execution_count": 4,
     "metadata": {},
     "output_type": "execute_result"
    }
   ],
   "source": [
    "len(data)"
   ]
  },
  {
   "cell_type": "code",
   "execution_count": null,
   "metadata": {},
   "outputs": [],
   "source": [
    "dadat.raised_amount_usd"
   ]
  },
  {
   "cell_type": "code",
   "execution_count": null,
   "metadata": {},
   "outputs": [],
   "source": []
  }
 ],
 "metadata": {
  "kernelspec": {
   "display_name": "Python 3",
   "language": "python",
   "name": "python3"
  },
  "language_info": {
   "codemirror_mode": {
    "name": "ipython",
    "version": 3
   },
   "file_extension": ".py",
   "mimetype": "text/x-python",
   "name": "python",
   "nbconvert_exporter": "python",
   "pygments_lexer": "ipython3",
   "version": "3.6.5"
  }
 },
 "nbformat": 4,
 "nbformat_minor": 2
}
